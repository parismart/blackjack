{
 "cells": [
  {
   "cell_type": "code",
   "execution_count": 64,
   "id": "226271d8-0c02-4b4b-aae0-ca7a81362c9e",
   "metadata": {},
   "outputs": [],
   "source": [
    "import random as rd\n",
    "\n",
    "def initial_cards(baraja):\n",
    "    initial_hand = [rd.choice(baraja), rd.choice(baraja)]\n",
    "    baraja.remove(initial_hand[0])\n",
    "    baraja.remove(initial_hand[1])\n",
    "    return initial_hand\n",
    "\n",
    "def get_card(baraja):\n",
    "    answer = input('Quieres otra carta? y/n')\n",
    "    if answer == 'y':\n",
    "        card = rd.choice(baraja)\n",
    "        baraja.remove(card)\n",
    "        return card\n",
    "    elif answer == 'n':\n",
    "        return\n",
    "    else:\n",
    "        print('Responde \"y\" si quieres otra carta y \"n\" si quieres plantarte.')\n",
    "        return (get_card(baraja))\n",
    "    \n",
    "def get_card_croupier(baraja):\n",
    "    card = rd.choice(baraja)\n",
    "    baraja.remove(card)\n",
    "    return card\n",
    "\n",
    "def get_value(hand):\n",
    "    value = 0\n",
    "    for card in hand:\n",
    "        if card == None:\n",
    "            return value\n",
    "        elif ((card >= 2) and (card < 10)):\n",
    "            value += (card)\n",
    "        elif card >= 10:\n",
    "            value += 10\n",
    "        elif card == 1:\n",
    "            if value <= 10 :\n",
    "                value += 11\n",
    "            else:\n",
    "                value += 1           \n",
    "    return value\n",
    "\n",
    "def show_cards(hand):\n",
    "    for card in hand:\n",
    "        if card == 1:\n",
    "            card = 'A'\n",
    "        elif card == 10:\n",
    "            card = 'J'\n",
    "        elif card == 11:\n",
    "            card = 'Q'\n",
    "        elif card == 12:\n",
    "            card = 'K'\n",
    "        else:\n",
    "            str(card)\n",
    "        print(card, end=' ')\n",
    "    print('')\n",
    "    \n",
    "def show_dealer(hand_dealer):\n",
    "    card = hand_dealer[0]\n",
    "    if card == 1:\n",
    "        card = 'A'\n",
    "    elif card == 10:\n",
    "        card = 'J'\n",
    "    elif card == 11:\n",
    "        card = 'Q'\n",
    "    elif card == 12:\n",
    "        card = 'K'\n",
    "    else:\n",
    "        str(card)\n",
    "    print(f'La Carta descubierta del croupier es {card}')\n",
    "\n",
    "def deal_cards(baraja, hand_player, hand_dealer):\n",
    "    while get_value(hand_player) < 21:\n",
    "        hand_player.append(get_card(baraja))\n",
    "        if hand_player[-1] == None:\n",
    "            print(f'Te has plantado, Tu puntuación final es {get_value(hand_player)}')\n",
    "            break\n",
    "        show_cards(hand_player)\n",
    "        print(f'El valor de tu mano es {get_value(hand_player)}')\n",
    "        \n",
    "    while get_value(hand_dealer) < 16:\n",
    "        hand_dealer.append(get_card_croupier(baraja))\n",
    "    if get_value(hand_player) <= 21:\n",
    "        print(f'El valor de la mano del croupier es {get_value(hand_dealer)}')\n",
    "        show_cards(hand_dealer)\n",
    "        \n",
    "def show_results(hand_player, hand_dealer):\n",
    "    value = get_value(hand_player)\n",
    "    dealer = get_value(hand_dealer)\n",
    "    if value > 21:\n",
    "        print('You Lose')\n",
    "    elif value == dealer:      \n",
    "        if value == 21 and len(hand_player) == 2:\n",
    "            if dealer == 21 and len(hand_dealer) == 2:\n",
    "                print('Empate')\n",
    "            else:\n",
    "                print('Black Jack, you win')\n",
    "        else:\n",
    "            print('Empate')\n",
    "    elif value == 21 and len(hand_player) == 2:\n",
    "        print('Black Jack, you win')\n",
    "    elif value > dealer and value <= 21 or dealer > 21 and value <= 21:\n",
    "        print('You win')\n",
    "    else:\n",
    "        print('You Lose')\n",
    "        \n",
    "def game():\n",
    "    baraja = list(range(1,13))*4\n",
    "    hand_player = initial_cards(baraja)\n",
    "    hand_dealer = initial_cards(baraja)\n",
    "\n",
    "    show_cards(hand_player)\n",
    "    print(f'El valor de tu mano es {get_value(hand_player)}')\n",
    "    show_dealer(hand_dealer)\n",
    "    deal_cards(baraja, hand_player, hand_dealer)\n",
    "    show_results(hand_player, hand_dealer)"
   ]
  },
  {
   "cell_type": "code",
   "execution_count": 66,
   "id": "3849c5b1-a55d-4770-aa2f-10b663426174",
   "metadata": {},
   "outputs": [
    {
     "name": "stdout",
     "output_type": "stream",
     "text": [
      "7 4 \n",
      "El valor de tu mano es 11\n",
      "La Carta descubierta del croupier es 3\n"
     ]
    },
    {
     "name": "stdin",
     "output_type": "stream",
     "text": [
      "Quieres otra carta? y/n y\n"
     ]
    },
    {
     "name": "stdout",
     "output_type": "stream",
     "text": [
      "7 4 2 \n",
      "El valor de tu mano es 13\n"
     ]
    },
    {
     "name": "stdin",
     "output_type": "stream",
     "text": [
      "Quieres otra carta? y/n y\n"
     ]
    },
    {
     "name": "stdout",
     "output_type": "stream",
     "text": [
      "7 4 2 7 \n",
      "El valor de tu mano es 20\n"
     ]
    },
    {
     "name": "stdin",
     "output_type": "stream",
     "text": [
      "Quieres otra carta? y/n n\n"
     ]
    },
    {
     "name": "stdout",
     "output_type": "stream",
     "text": [
      "Te has plantado, Tu puntuación final es 20\n",
      "El valor de la mano del croupier es 17\n",
      "3 4 K \n",
      "You win\n"
     ]
    }
   ],
   "source": [
    "game()"
   ]
  },
  {
   "cell_type": "markdown",
   "id": "ee320f88-a7c5-48f1-84d8-bd31f358f3e1",
   "metadata": {},
   "source": [
    "[**Reglas Black Jack**](https://es.wikipedia.org/wiki/Blackjack)\n",
    "\n",
    "| Valor de la mano | Probabilidad de pasarse pidiendo otra carta |\n",
    "| :--: | :--: |\n",
    "| 21 | 100 % |\n",
    "| 20 | 92 % |\n",
    "| 19 | 85 % |\n",
    "| 18 | 77 % |\n",
    "| 17 | 69 % |\n",
    "| 16 | 62 % |\n",
    "| 15 | 58 % |\n",
    "| 14 | 56 % |\n",
    "| 13 | 39 % |\n",
    "| 12 | 31 % |\n",
    "| 11 o menos | 0 % |"
   ]
  }
 ],
 "metadata": {
  "kernelspec": {
   "display_name": "Python 3 (ipykernel)",
   "language": "python",
   "name": "python3"
  },
  "language_info": {
   "codemirror_mode": {
    "name": "ipython",
    "version": 3
   },
   "file_extension": ".py",
   "mimetype": "text/x-python",
   "name": "python",
   "nbconvert_exporter": "python",
   "pygments_lexer": "ipython3",
   "version": "3.9.7"
  }
 },
 "nbformat": 4,
 "nbformat_minor": 5
}
